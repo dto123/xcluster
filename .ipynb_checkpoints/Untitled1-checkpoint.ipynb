{
 "cells": [
  {
   "cell_type": "code",
   "execution_count": 1,
   "metadata": {
    "collapsed": true
   },
   "outputs": [],
   "source": [
    "import numpy as np"
   ]
  },
  {
   "cell_type": "code",
   "execution_count": 12,
   "metadata": {
    "collapsed": true
   },
   "outputs": [],
   "source": [
    "datapoints_x = np.random.uniform(low=0.5, high = 1.5, size = (25,))\n",
    "datapoints_y = np.random.uniform(low=0.3, high = 2.0, size = (25,))"
   ]
  },
  {
   "cell_type": "code",
   "execution_count": 3,
   "metadata": {},
   "outputs": [],
   "source": [
    "list_of_data = []"
   ]
  },
  {
   "cell_type": "code",
   "execution_count": 13,
   "metadata": {},
   "outputs": [
    {
     "name": "stdout",
     "output_type": "stream",
     "text": [
      "(25,)\n",
      "(25,)\n"
     ]
    }
   ],
   "source": [
    "print (datapoints_x.shape)\n",
    "print (datapoints_y.shape)"
   ]
  },
  {
   "cell_type": "code",
   "execution_count": 33,
   "metadata": {},
   "outputs": [
    {
     "name": "stdout",
     "output_type": "stream",
     "text": [
      "(75, 2)\n",
      "75\n",
      "75\n",
      "[ 0  1  2  3  4  5  6  7  8  9 10 11 12 13 14 15 16 17 18 19 20 21 22 23 24\n",
      " 25 26 27 28 29 30 31 32 33 34 35 36 37 38 39 40 41 42 43 44 45 46 47 48 49\n",
      " 50 51 52 53 54 55 56 57 58 59 60 61 62 63 64 65 66 67 68 69 70 71 72 73 74]\n"
     ]
    }
   ],
   "source": [
    "\n",
    "d1 = np.transpose(np.vstack((datapoints_x, datapoints_y)))\n",
    "d2 = np.transpose(np.vstack((datapoints_x, datapoints_y)))\n",
    "d3 = np.transpose(np.vstack((datapoints_x, datapoints_y)))\n",
    "\n",
    "listD = []\n",
    "listD.append(d1)\n",
    "listD.append(d2)\n",
    "listD.append(d3)\n",
    "\n",
    "\n",
    "print (np.vstack(listD).shape)\n",
    "\n",
    "d1, d2 = np.vstack(listD).shape\n",
    "\n",
    "print(d1)\n",
    "\n",
    "newList = []\n",
    "for a in range(d1):\n",
    "    one = np.array(a)\n",
    "    one.reshape(1,-1)\n",
    "    newList.append(one)\n",
    "    \n",
    "print (len(newList))\n",
    "\n",
    "print (np.array(newList))\n",
    "    \n",
    "\n",
    "\n",
    "#print (pids)\n",
    "\n",
    "#v= np.append(pids,np.vstack(listD))\n",
    "#print (v)"
   ]
  },
  {
   "cell_type": "code",
   "execution_count": 9,
   "metadata": {},
   "outputs": [
    {
     "name": "stdout",
     "output_type": "stream",
     "text": [
      "[[ 0.99330348  1.0147336 ]\n",
      " [ 1.3004297   1.19512505]\n",
      " [ 0.8232727   0.38640565]\n",
      " [ 0.60156564  1.08329295]\n",
      " [ 0.7792767   0.58419268]\n",
      " [ 1.33932822  0.30672765]\n",
      " [ 1.32410823  0.74750156]\n",
      " [ 1.39286839  1.46960086]\n",
      " [ 1.16835051  1.14788922]\n",
      " [ 1.00976782  0.38360774]\n",
      " [ 1.38915954  1.91115358]\n",
      " [ 0.83627753  1.98984161]\n",
      " [ 1.31320217  0.87605595]\n",
      " [ 0.81726937  1.55083296]\n",
      " [ 0.87212352  1.32707189]\n",
      " [ 1.04549016  0.85883064]\n",
      " [ 1.12953294  0.80388026]\n",
      " [ 0.56110144  0.62423011]\n",
      " [ 0.80984572  1.3269153 ]\n",
      " [ 1.23881531  1.05065951]\n",
      " [ 0.69381482  1.04880645]\n",
      " [ 1.3653406   1.03528925]\n",
      " [ 1.20157079  0.64711372]\n",
      " [ 1.36743822  0.77615604]\n",
      " [ 1.42680215  0.88044941]]\n"
     ]
    }
   ],
   "source": []
  },
  {
   "cell_type": "code",
   "execution_count": 12,
   "metadata": {},
   "outputs": [
    {
     "name": "stdout",
     "output_type": "stream",
     "text": [
      "2\n"
     ]
    }
   ],
   "source": []
  },
  {
   "cell_type": "code",
   "execution_count": 14,
   "metadata": {
    "collapsed": true
   },
   "outputs": [],
   "source": []
  },
  {
   "cell_type": "code",
   "execution_count": 15,
   "metadata": {},
   "outputs": [
    {
     "name": "stdout",
     "output_type": "stream",
     "text": [
      "(2, 25, 2)\n"
     ]
    }
   ],
   "source": []
  },
  {
   "cell_type": "code",
   "execution_count": null,
   "metadata": {
    "collapsed": true
   },
   "outputs": [],
   "source": []
  }
 ],
 "metadata": {
  "kernelspec": {
   "display_name": "Python 3",
   "language": "python",
   "name": "python3"
  },
  "language_info": {
   "codemirror_mode": {
    "name": "ipython",
    "version": 3
   },
   "file_extension": ".py",
   "mimetype": "text/x-python",
   "name": "python",
   "nbconvert_exporter": "python",
   "pygments_lexer": "ipython3",
   "version": "3.6.1"
  }
 },
 "nbformat": 4,
 "nbformat_minor": 2
}
