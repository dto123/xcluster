{
 "cells": [
  {
   "cell_type": "code",
   "execution_count": 11,
   "metadata": {},
   "outputs": [],
   "source": [
    "import numpy as np"
   ]
  },
  {
   "cell_type": "code",
   "execution_count": 6,
   "metadata": {
    "collapsed": true
   },
   "outputs": [],
   "source": [
    "datapoints_x = np.random.uniform(low=0.5, high = 1.5, size = (25,))\n",
    "datapoints_y = np.random.uniform(low=0.3, high = 2.0, size = (25,))"
   ]
  },
  {
   "cell_type": "code",
   "execution_count": 47,
   "metadata": {},
   "outputs": [
    {
     "name": "stdout",
     "output_type": "stream",
     "text": [
      "(25, 3)\n"
     ]
    }
   ],
   "source": [
    "a = np.random.rand(25, 3)\n",
    "b = np.random.rand(3, 3)\n",
    "\n",
    "c = np.matmul(a, b)\n",
    "\n",
    "print (c.shape)"
   ]
  },
  {
   "cell_type": "code",
   "execution_count": 8,
   "metadata": {},
   "outputs": [
    {
     "name": "stdout",
     "output_type": "stream",
     "text": [
      "(25,)\n"
     ]
    }
   ],
   "source": [
    "print (datapoints_x.shape)\n"
   ]
  },
  {
   "cell_type": "code",
   "execution_count": 43,
   "metadata": {},
   "outputs": [
    {
     "name": "stdout",
     "output_type": "stream",
     "text": [
      "(2, 25)\n",
      "(75, 2)\n"
     ]
    }
   ],
   "source": [
    "d7 = np.vstack((datapoints_x, datapoints_y))\n",
    "print(d7.shape)\n",
    "\n",
    "d1 = np.transpose(np.vstack((datapoints_x, datapoints_y)))\n",
    "d2 = np.transpose(np.vstack((datapoints_x, datapoints_y)))\n",
    "d3 = np.transpose(np.vstack((datapoints_x, datapoints_y)))\n",
    "\n",
    "\n",
    "d4 = np.vstack((d1, d2))\n",
    "\n",
    "print (np.vstack((d4, d3)).shape)"
   ]
  },
  {
   "cell_type": "code",
   "execution_count": 9,
   "metadata": {},
   "outputs": [
    {
     "name": "stdout",
     "output_type": "stream",
     "text": [
      "[[ 0.99330348  1.0147336 ]\n",
      " [ 1.3004297   1.19512505]\n",
      " [ 0.8232727   0.38640565]\n",
      " [ 0.60156564  1.08329295]\n",
      " [ 0.7792767   0.58419268]\n",
      " [ 1.33932822  0.30672765]\n",
      " [ 1.32410823  0.74750156]\n",
      " [ 1.39286839  1.46960086]\n",
      " [ 1.16835051  1.14788922]\n",
      " [ 1.00976782  0.38360774]\n",
      " [ 1.38915954  1.91115358]\n",
      " [ 0.83627753  1.98984161]\n",
      " [ 1.31320217  0.87605595]\n",
      " [ 0.81726937  1.55083296]\n",
      " [ 0.87212352  1.32707189]\n",
      " [ 1.04549016  0.85883064]\n",
      " [ 1.12953294  0.80388026]\n",
      " [ 0.56110144  0.62423011]\n",
      " [ 0.80984572  1.3269153 ]\n",
      " [ 1.23881531  1.05065951]\n",
      " [ 0.69381482  1.04880645]\n",
      " [ 1.3653406   1.03528925]\n",
      " [ 1.20157079  0.64711372]\n",
      " [ 1.36743822  0.77615604]\n",
      " [ 1.42680215  0.88044941]]\n"
     ]
    }
   ],
   "source": [
    "print (datapoints)"
   ]
  },
  {
   "cell_type": "code",
   "execution_count": 12,
   "metadata": {},
   "outputs": [
    {
     "name": "stdout",
     "output_type": "stream",
     "text": [
      "2\n"
     ]
    }
   ],
   "source": [
    "l = []\n",
    "l.append(datapoints)\n",
    "l.append(d2)\n",
    "print (len(l))"
   ]
  },
  {
   "cell_type": "code",
   "execution_count": 14,
   "metadata": {},
   "outputs": [],
   "source": [
    "\n",
    "a = np.asarray(l)"
   ]
  },
  {
   "cell_type": "code",
   "execution_count": 15,
   "metadata": {},
   "outputs": [
    {
     "name": "stdout",
     "output_type": "stream",
     "text": [
      "(2, 25, 2)\n"
     ]
    }
   ],
   "source": [
    "print(a.shape)"
   ]
  },
  {
   "cell_type": "code",
   "execution_count": null,
   "metadata": {
    "collapsed": true
   },
   "outputs": [],
   "source": []
  }
 ],
 "metadata": {
  "kernelspec": {
   "display_name": "Python 3",
   "language": "python",
   "name": "python3"
  },
  "language_info": {
   "codemirror_mode": {
    "name": "ipython",
    "version": 3
   },
   "file_extension": ".py",
   "mimetype": "text/x-python",
   "name": "python",
   "nbconvert_exporter": "python",
   "pygments_lexer": "ipython3",
   "version": "3.6.1"
  }
 },
 "nbformat": 4,
 "nbformat_minor": 2
}
