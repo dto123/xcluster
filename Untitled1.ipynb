{
 "cells": [
  {
   "cell_type": "code",
   "execution_count": 1,
   "metadata": {
    "collapsed": true
   },
   "outputs": [],
   "source": [
    "import numpy as np"
   ]
  },
  {
   "cell_type": "code",
   "execution_count": 2,
   "metadata": {
    "collapsed": true
   },
   "outputs": [],
   "source": [
    "datapoints_x = np.random.uniform(low=0.5, high = 1.5, size = (25,))\n",
    "datapoints_y = np.random.uniform(low=0.3, high = 2.0, size = (25,))"
   ]
  },
  {
   "cell_type": "code",
   "execution_count": 3,
   "metadata": {},
   "outputs": [
    {
     "ename": "SyntaxError",
     "evalue": "invalid syntax (<ipython-input-3-f0d1a9293353>, line 1)",
     "output_type": "error",
     "traceback": [
      "\u001b[1;36m  File \u001b[1;32m\"<ipython-input-3-f0d1a9293353>\"\u001b[1;36m, line \u001b[1;32m1\u001b[0m\n\u001b[1;33m    print datapoints_x.shape()\u001b[0m\n\u001b[1;37m                     ^\u001b[0m\n\u001b[1;31mSyntaxError\u001b[0m\u001b[1;31m:\u001b[0m invalid syntax\n"
     ]
    }
   ],
   "source": [
    "print datapoints_x.shape()"
   ]
  },
  {
   "cell_type": "code",
   "execution_count": 5,
   "metadata": {},
   "outputs": [
    {
     "name": "stdout",
     "output_type": "stream",
     "text": [
      "(25,)\n"
     ]
    }
   ],
   "source": [
    "print (datapoints_x.shape)\n"
   ]
  },
  {
   "cell_type": "code",
   "execution_count": 7,
   "metadata": {},
   "outputs": [
    {
     "name": "stdout",
     "output_type": "stream",
     "text": [
      "(25, 2)\n"
     ]
    }
   ],
   "source": [
    "datapoints = np.transpose(np.vstack((datapoints_x, datapoints_y)))\n",
    "print (datapoints.shape)"
   ]
  },
  {
   "cell_type": "code",
   "execution_count": 9,
   "metadata": {},
   "outputs": [
    {
     "name": "stdout",
     "output_type": "stream",
     "text": [
      "[[ 0.99330348  1.0147336 ]\n",
      " [ 1.3004297   1.19512505]\n",
      " [ 0.8232727   0.38640565]\n",
      " [ 0.60156564  1.08329295]\n",
      " [ 0.7792767   0.58419268]\n",
      " [ 1.33932822  0.30672765]\n",
      " [ 1.32410823  0.74750156]\n",
      " [ 1.39286839  1.46960086]\n",
      " [ 1.16835051  1.14788922]\n",
      " [ 1.00976782  0.38360774]\n",
      " [ 1.38915954  1.91115358]\n",
      " [ 0.83627753  1.98984161]\n",
      " [ 1.31320217  0.87605595]\n",
      " [ 0.81726937  1.55083296]\n",
      " [ 0.87212352  1.32707189]\n",
      " [ 1.04549016  0.85883064]\n",
      " [ 1.12953294  0.80388026]\n",
      " [ 0.56110144  0.62423011]\n",
      " [ 0.80984572  1.3269153 ]\n",
      " [ 1.23881531  1.05065951]\n",
      " [ 0.69381482  1.04880645]\n",
      " [ 1.3653406   1.03528925]\n",
      " [ 1.20157079  0.64711372]\n",
      " [ 1.36743822  0.77615604]\n",
      " [ 1.42680215  0.88044941]]\n"
     ]
    }
   ],
   "source": [
    "print (datapoints)"
   ]
  },
  {
   "cell_type": "code",
   "execution_count": null,
   "metadata": {
    "collapsed": true
   },
   "outputs": [],
   "source": []
  }
 ],
 "metadata": {
  "kernelspec": {
   "display_name": "Python 3",
   "language": "python",
   "name": "python3"
  },
  "language_info": {
   "codemirror_mode": {
    "name": "ipython",
    "version": 3
   },
   "file_extension": ".py",
   "mimetype": "text/x-python",
   "name": "python",
   "nbconvert_exporter": "python",
   "pygments_lexer": "ipython3",
   "version": "3.6.1"
  }
 },
 "nbformat": 4,
 "nbformat_minor": 2
}
