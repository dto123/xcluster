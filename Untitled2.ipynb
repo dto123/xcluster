{
 "cells": [
  {
   "cell_type": "code",
   "execution_count": 1,
   "metadata": {
    "collapsed": true
   },
   "outputs": [],
   "source": [
    "import numpy as np"
   ]
  },
  {
   "cell_type": "code",
   "execution_count": 11,
   "metadata": {},
   "outputs": [
    {
     "name": "stdout",
     "output_type": "stream",
     "text": [
      "[[ 0.23861405  0.0863626   0.20148738  0.61056015  0.6184559   0.53562612]\n",
      " [ 0.97315355  0.91340698  0.65330866  0.91596481  0.56183119  0.64318282]\n",
      " [ 0.45206114  0.60740555  0.55673916  0.79398832  0.18221614  0.75316626]\n",
      " [ 0.92748058  0.22804298  0.14048016  0.15117691  0.5635064   0.0447891 ]\n",
      " [ 0.18472443  0.62470987  0.66202499  0.33979808  0.92633696  0.86713995]\n",
      " [ 0.49799305  0.40828369  0.54375809  0.34242464  0.08731774  0.00334081]\n",
      " [ 0.61142368  0.37518941  0.75952112  0.73762042  0.06075667  0.78307774]\n",
      " [ 0.87047618  0.84927053  0.43392994  0.65567338  0.58456728  0.02418345]\n",
      " [ 0.1823885   0.37141505  0.40111067  0.48610358  0.48085831  0.76976033]]\n",
      "[[ 1.07105512]\n",
      " [ 1.94331735]\n",
      " [ 1.45400786]\n",
      " [ 1.12887488]\n",
      " [ 1.60877507]\n",
      " [ 0.91392324]\n",
      " [ 1.50082122]\n",
      " [ 1.56188851]\n",
      " [ 1.17989696]]\n"
     ]
    }
   ],
   "source": [
    "a = np.random.rand(9,6)\n",
    "print(a)\n",
    "\n",
    "norm = np.linalg.norm(a, axis=1, keepdims=True)\n",
    "print (norm)"
   ]
  },
  {
   "cell_type": "code",
   "execution_count": 19,
   "metadata": {},
   "outputs": [
    {
     "ename": "SyntaxError",
     "evalue": "invalid syntax (<ipython-input-19-8eb7dfeb7c51>, line 1)",
     "output_type": "error",
     "traceback": [
      "\u001b[1;36m  File \u001b[1;32m\"<ipython-input-19-8eb7dfeb7c51>\"\u001b[1;36m, line \u001b[1;32m1\u001b[0m\n\u001b[1;33m    a = / norm\u001b[0m\n\u001b[1;37m        ^\u001b[0m\n\u001b[1;31mSyntaxError\u001b[0m\u001b[1;31m:\u001b[0m invalid syntax\n"
     ]
    }
   ],
   "source": [
    "a = / norm"
   ]
  },
  {
   "cell_type": "code",
   "execution_count": 18,
   "metadata": {},
   "outputs": [
    {
     "name": "stdout",
     "output_type": "stream",
     "text": [
      "[[ 0.2227841   0.0806332   0.18812046  0.57005483  0.57742677  0.50009202]\n",
      " [ 0.50076924  0.47002461  0.33618218  0.47134083  0.28910934  0.33097158]\n",
      " [ 0.31090694  0.41774571  0.38289969  0.5460688   0.12531991  0.51799325]\n",
      " [ 0.82159733  0.20200908  0.12444263  0.13391822  0.49917525  0.03967588]\n",
      " [ 0.11482303  0.38831399  0.41150873  0.21121541  0.57580266  0.53900633]\n",
      " [ 0.54489593  0.4467374   0.59497129  0.3746755   0.09554166  0.00365547]\n",
      " [ 0.40739275  0.24998941  0.50607035  0.49147787  0.04048229  0.52176617]\n",
      " [ 0.55732286  0.54374594  0.27782389  0.41979525  0.37426953  0.01548347]\n",
      " [ 0.15458003  0.314786    0.33995398  0.41198816  0.40754263  0.65239623]]\n"
     ]
    }
   ],
   "source": [
    "print (a)"
   ]
  },
  {
   "cell_type": "code",
   "execution_count": null,
   "metadata": {
    "collapsed": true
   },
   "outputs": [],
   "source": []
  }
 ],
 "metadata": {
  "kernelspec": {
   "display_name": "Python 3",
   "language": "python",
   "name": "python3"
  },
  "language_info": {
   "codemirror_mode": {
    "name": "ipython",
    "version": 3
   },
   "file_extension": ".py",
   "mimetype": "text/x-python",
   "name": "python",
   "nbconvert_exporter": "python",
   "pygments_lexer": "ipython3",
   "version": "3.6.1"
  }
 },
 "nbformat": 4,
 "nbformat_minor": 2
}
